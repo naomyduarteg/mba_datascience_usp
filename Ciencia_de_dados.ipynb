{
 "cells": [
  {
   "attachments": {},
   "cell_type": "markdown",
   "metadata": {},
   "source": [
    "## 1. Introdução à ciência de dados"
   ]
  },
  {
   "attachments": {},
   "cell_type": "markdown",
   "metadata": {},
   "source": [
    "A ciência de dados é uma ciência interdisciplinar que visa obter dados, tratá-los, analisá-los, desenvolver modelos computacionais de aprendizado de máquina, fazer predições e inferências sobre os dados. Sendo, interdisciplinar, ela envolve outras áreas tais como estatística, matemática, ciência da computação e gestão de projetos. \n",
    "\n",
    "Existem algumas tarefas básicas na ciência de dados, que são: \n",
    "- **Aprendizado supervisionado**: fornecemos dados para o nosso modelo que contenham exemplos, treinamos o algoritmo e esperamos que ele seja capaz de generalizar para dados que ele ainda não tenha visto. Os modelos preditivos são tais que, dado um conjunto de exemplos $x$ com rótulos $y$, o algoritmo constrói um estimador que é uma função do tipo $\\hat{y} = f(x, w) + \\epsilon$, onde $f(x)$ é a função que mapeia as entradas nas saídas correspondentes, $w$ são os parâmetros da função e $\\epsilon$ é o erro. A diferença entre os valores $\\hat{y}$ estimados pelo modelo e os rótulos reais $y$ indica o quão bom estimador o modelo é. A variável $y$ pode ser do tipo *nominal*, e neste caso o estimador é chamado de *classificador*, e pode ser do tipo *contínuo*, e neste caso o estimador é chamado de *regressor*.\n",
    "- **Apredizado não-supervisionado**: neste caso, não temos informação a priori sobre os dados, de modo que iremos buscar que o modelo seja capaz de agrupar os dados de acordo com alguma semelhança que eles possam ter entre si. Assim, os dados são agrupados de modo que a similaridade seja máxima entre objetos no mesmo grupo e mínima entre grupos diferentes. Podemos utilizar o aprendizado não-supervisionado para criar, por exemplos, regras de associação, tais como recomendações de compras, séries, vídeos, etc. Outra tarefa importante deste aprendizado é a detecção de outliers, que são pontos que se diferenciam drasticamente de todos os outros (como, por exemplo, fraudes).\n",
    "- **Aprendizado por reforço**: é o tipo de aprendizado no qual o modelo recebe recompensas quando faz predições corretas."
   ]
  },
  {
   "cell_type": "code",
   "execution_count": null,
   "metadata": {},
   "outputs": [],
   "source": []
  }
 ],
 "metadata": {
  "kernelspec": {
   "display_name": ".venv",
   "language": "python",
   "name": "python3"
  },
  "language_info": {
   "name": "python",
   "version": "3.10.2 (tags/v3.10.2:a58ebcc, Jan 17 2022, 14:12:15) [MSC v.1929 64 bit (AMD64)]"
  },
  "orig_nbformat": 4,
  "vscode": {
   "interpreter": {
    "hash": "205ff5010683b6790249a8111c5eb5ee89b93372b4659514afde1e984451a84e"
   }
  }
 },
 "nbformat": 4,
 "nbformat_minor": 2
}
